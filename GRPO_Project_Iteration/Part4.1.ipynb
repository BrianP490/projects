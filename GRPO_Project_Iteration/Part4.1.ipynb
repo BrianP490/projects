{
  "cells": [
    {
      "cell_type": "markdown",
      "metadata": {
        "id": "eg4EjgNMYmSn"
      },
      "source": [
        "**Part 4**\n",
        "\n",
        "GRPO Loss\n",
        "\n",
        "Improvements:\n",
        "* Added Log Counter as train function parameter\n",
        "\n",
        "Attempted the Following:\n",
        "* Adding Gradient Clipping\n",
        "* Tried adjusting the reward logic\n",
        "* Added Entropy penalty to Loss calculation\n",
        "\n",
        "Look into:\n",
        "* detatching advantages"
      ]
    },
    {
      "cell_type": "code",
      "execution_count": 1,
      "metadata": {
        "id": "K8F-BVwxNvrC"
      },
      "outputs": [],
      "source": [
        "import torch\n",
        "import torch.nn as nn\n",
        "import torch.optim as optim\n",
        "import random\n",
        "from tqdm import tqdm"
      ]
    },
    {
      "cell_type": "code",
      "execution_count": 6,
      "metadata": {
        "id": "4D4bl4-xNwvl"
      },
      "outputs": [],
      "source": [
        "# Define the neural network\n",
        "class LogicNet(nn.Module):\n",
        "    def __init__(self):\n",
        "        super(LogicNet, self).__init__()\n",
        "        self.fc1 = nn.Linear(2, 4)  # Input layer -> Hidden Layer\n",
        "        self.fc2 = nn.Linear(4, 1)  # Hidden Layer -> Output Layer\n",
        "\n",
        "    def forward(self, x):\n",
        "        x = torch.relu(self.fc1(x))\n",
        "        logits = self.fc2(x)\n",
        "        return logits\n",
        "\n",
        "    def get_action_and_or_log_prob(self, state, action=None):\n",
        "        \"\"\"Helper method to get action and its log_prob from logits\"\"\"\n",
        "        logits = self.forward(state)    # Get the logits from a forward pass of the Policy Network\n",
        "        # For a binary output (0 or 1), Bernoulli distribution is appropriate\n",
        "        probs = torch.distributions.Bernoulli(logits=logits)\n",
        "\n",
        "        if action is None:\n",
        "            sampled_action = probs.sample() # Sample action based on current probabilities (returns 0 or 1)\n",
        "            log_prob = probs.log_prob(sampled_action)   # Calculate the log of the probability the sampled action is chosen\n",
        "            return sampled_action, log_prob\n",
        "        else:\n",
        "            log_prob = probs.log_prob(action)       # Returns the log of the probability the action is chosen\n",
        "            return log_prob\n"
      ]
    },
    {
      "cell_type": "code",
      "execution_count": 7,
      "metadata": {
        "id": "50L6eW4tNxrC"
      },
      "outputs": [],
      "source": [
        "# Define the environment\n",
        "class LogicGateEnv:\n",
        "    def __init__(self, gate=\"AND\"):\n",
        "        self.gate = gate\n",
        "        self.data = torch.tensor([[0, 0], [0, 1], [1, 0], [1, 1]], dtype=torch.float32)\n",
        "        self.targets = self.get_targets(gate)\n",
        "\n",
        "    def get_targets(self, gate:str):\n",
        "        if gate == \"AND\":\n",
        "            return torch.tensor([[0], [0], [0], [1]], dtype=torch.float32)\n",
        "        elif gate == \"OR\":\n",
        "            return torch.tensor([[0], [1], [1], [1]], dtype=torch.float32)\n",
        "        elif gate == \"XOR\":\n",
        "            return torch.tensor([[0], [1], [1], [0]], dtype=torch.float32)\n",
        "        elif gate == \"XNOR\":\n",
        "            return torch.tensor([[1], [0], [0], [1]], dtype=torch.float32)\n",
        "\n",
        "    def step(self, input_idx: int, prediction):\n",
        "        target = self.targets[input_idx].item()\n",
        "        # Rounds up to 1 if it is >=.5 to get prediction; else 0\n",
        "        reward = 1.0 if round(prediction) == target else -10.0\n",
        "        return reward"
      ]
    },
    {
      "cell_type": "code",
      "execution_count": null,
      "metadata": {
        "id": "vRGKeCcJUWLU"
      },
      "outputs": [],
      "source": [
        "# Training loop\n",
        "def train_logic_gate(gate=\"XOR\", epochs=100, learning_rate=0.0001, batch_size=64, k_epochs=64, epsilon=0.2, beta_kl=0.01, max_grad_norm=0.5, entropy_coeff=0.5, log_iterations=10):\n",
        "    print(f\"Training {gate} gate with {epochs} epochs, {learning_rate} learning rate, batch size {batch_size}, and KL beta {beta_kl}.\")\n",
        "    # Initialize Agent's Policy, Environment, parameter optimizer, and Total Correct Counter\n",
        "    env = LogicGateEnv(gate)\n",
        "    Policy_New = LogicNet()   # STEP 1 || CREATE π_new\n",
        "    optimizer = optim.Adam(Policy_New.parameters(), lr=learning_rate)\n",
        "    overall_num_correct = 0.0\n",
        "    # STEP 2 || FOR I ITERATION STEPS OMITTED\n",
        "    # STEP 3 || CREATE REFERENCE MODEL OMITTED\n",
        "\n",
        "    for epoch in range(epochs):     # STEP 4 || FOR M ITERATION STEPS\n",
        "        rewards_batch = []  # will be a list of floats\n",
        "        inputs_batch = []   # will be a list of tensors\n",
        "        targets_batch = []  # will be a list of tensors\n",
        "        # log_prob_batch =[]  # will be a list of tensors\n",
        "\n",
        "        # STEP 5 || Sample a batch D_b from D --> OMITTED \n",
        "        # STEP 6 || Update the old policy model π_old <- π_new\n",
        "        Policy_Old = LogicNet()\n",
        "        Policy_Old.load_state_dict(Policy_New.state_dict())\n",
        "        Policy_Old.eval()   # Prevent Gradient tracking\n",
        "\n",
        "        # --- STEP 7 || Collect a Batch of Experiences ---\n",
        "        # Loop agent prediction, recording important values to lists:\n",
        "        for i in range(batch_size):\n",
        "            # Get model inputs and target\n",
        "            idx = random.randint(0, 3)\n",
        "            inputs = env.data[idx]\n",
        "            target = env.targets[idx]\n",
        "\n",
        "            # Get model prediction and log_prob of that prediction using the old policy\n",
        "            with torch.no_grad(): # No need to track gradients during data collection\n",
        "                pred, log_prob  = Policy_Old.get_action_and_or_log_prob(state=inputs)   # returns tensors\n",
        "\n",
        "            # Calculate reward\n",
        "            reward = env.step(idx, pred.item())\n",
        "\n",
        "            # Append to lists\n",
        "            inputs_batch.append(inputs)\n",
        "            rewards_batch.append(reward)\n",
        "            targets_batch.append(target)\n",
        "            # log_prob_batch.append(log_prob)\n",
        "\n",
        "        # Convert collected batch lists into PyTorch tensors\n",
        "        inputs_batch_tensor = torch.stack(inputs_batch)     # Shape: (batch_size, 3)\n",
        "        targets_old_batch_tensor = torch.stack(targets_batch)   # Shape: (batch_size, 1)\n",
        "        rewards_batch_tensor = torch.tensor(rewards_batch, dtype=torch.float32)     # Shape: (batch_size,)\n",
        "        # log_prob_old_batch_tensor = torch.stack(log_prob_batch)   # Shape: (batch_size, 1)\n",
        "\n",
        "        overall_num_correct += (rewards_batch_tensor==1.0).sum().item()  ### need to change\n",
        "        # print(f\"Number correct, this iteration: {(rewards_batch_tensor).sum().item()}\")\n",
        "\n",
        "        # STEP 8 || Calculate Discounted Rewards\n",
        "        # Unsqueeze to ensure rewards_batch_t has the same shape as targets_batch_t for element-wise ops SHAPE:(1, batch_size)\n",
        "        rewards_batch_t = rewards_batch_tensor.unsqueeze(1)\n",
        "\n",
        "        # --- STEP 9 || START OF ADVANTAGE CALCULATION ---\n",
        "        # Calculate the mean of the rewards in the current batch\n",
        "        mean_reward = rewards_batch_tensor.mean()\n",
        "\n",
        "        # Calculate the standard deviation of the rewards in the current batch\n",
        "        # Add a small epsilon (1e-8) to prevent division by zero in case all rewards are identical\n",
        "        std_reward = rewards_batch_tensor.std() + 1e-8\n",
        "\n",
        "        # print(f\"rewards_batch_t shape: {rewards_batch_t.shape} || mean_reward: {mean_reward}\")\n",
        "        # Calculate the advantage for each time step in the batch using your specified formula\n",
        "        advantages_of_batch = (rewards_batch_t - mean_reward) / (std_reward)\n",
        "        # --- END OF ADVANTAGE CALCULATION ---\n",
        "\n",
        "        # Detach these to prevent gradients from flowing back into old_policy_net\n",
        "        inputs_batch_tensor = inputs_batch_tensor.detach()\n",
        "        targets_old_batch_tensor = targets_old_batch_tensor.detach()\n",
        "        rewards_batch_tensor = rewards_batch_tensor.detach()\n",
        "        # log_prob_old_batch_tensor = log_prob_old_batch_tensor.detach()\n",
        "        advantages_of_batch = advantages_of_batch.detach()\n",
        "\n",
        "        # Get log_probabilities for the collected 'targets' from the OLD policy\n",
        "        # Detach these to prevent gradients from flowing back into old_net\n",
        "        with torch.no_grad():\n",
        "            old_logits = Policy_Old(inputs_batch_tensor)\n",
        "            # Use the get_action_and_or_log_prob helper\n",
        "            log_prob_old = Policy_Old.get_action_and_or_log_prob(inputs_batch_tensor, targets_old_batch_tensor).detach()\n",
        "            q_dist = torch.distributions.Bernoulli(logits=old_logits.detach())\n",
        "\n",
        "\n",
        "        # --- STEP 10 || GRPO Optimization ---\n",
        "        for _ in tqdm(range(k_epochs), desc=f\"Epoch {epoch+1}/{epochs} (Inner K-Epochs)\", leave=False):\n",
        "            new_policy_logits = Policy_New(inputs_batch_tensor)\n",
        "            log_prob_new = Policy_New.get_action_and_or_log_prob(inputs_batch_tensor, targets_old_batch_tensor)\n",
        "\n",
        "\n",
        "            # --- KL Divergence Calculation ---\n",
        "            # Create Bernoulli distributions for new policy using logits\n",
        "            p_dist = torch.distributions.Bernoulli(logits=new_policy_logits)\n",
        "\n",
        "            # Calculate KL divergence per sample, then take the mean over the batch\n",
        "            kl_div_per_sample = torch.distributions.kl.kl_divergence(p_dist, q_dist)\n",
        "            kl_loss = kl_div_per_sample.mean() # Mean over the batch\n",
        "\n",
        "            # print(f\"log_prob_new: {log_prob_new}\")\n",
        "            # print(f\"log_prob_old: {log_prob_old}\")\n",
        "\n",
        "            # Calculate the ratio of each Trajectory in the Group\n",
        "            # r_t(0) = π_0(a_t|s_t) / π_0_old(a_t|s_t) = exp(log(π_0(a_t|s_t) - log(π_0_old(a_t|s_t)))\n",
        "            ratio = torch.exp(log_prob_new - log_prob_old)\n",
        "\n",
        "            # print(f\"Ratio: {ratio}\")\n",
        "\n",
        "            surrogate_1 = ratio * advantages_of_batch\n",
        "            surrogate_2 = torch.clamp(input=ratio, min= 1.0 - epsilon, max= 1.0 + epsilon) * advantages_of_batch\n",
        "\n",
        "            # Combine clipped loss with KL penalty\n",
        "            # Remember: we minimize the negative of the main objective, and add the KL term\n",
        "            # Maximize: min(...) - beta * D_KL(...) => Minimize: -min(...) + beta * D_KL(...)\n",
        "            policy_objective_term = -torch.min(surrogate_1, surrogate_2).mean()\n",
        "\n",
        "            # print(f\"policy_objective_term: {policy_objective_term}\")\n",
        "            \n",
        "            # Calculate the entropy of the New Policy distribution\n",
        "            entropy = p_dist.entropy().mean()\n",
        "            # print(f\"Entropy Monitor: {entropy_coeff * entropy}\") # Entropy goes to 0\n",
        "            loss = policy_objective_term + beta_kl * kl_loss - entropy_coeff * entropy# Add KL term with beta_kl weight\n",
        "\n",
        "            # In GRPO, the objective function is typically designed to be maximized (e.g., maximizing the expected return). Since PyTorch optimizers are designed for minimization, the common practice is to minimize the negative of the objective function.\n",
        "\n",
        "            # STEP 11 || Policy Updates\n",
        "            optimizer.zero_grad()\n",
        "            loss.backward()\n",
        "            # --- ADDING GRADIENT CLIPPING HERE TO LIMIT PARAMETER UPDATES---\n",
        "            # torch.nn.utils.clip_grad_norm_(Policy_New.parameters(), max_norm=max_grad_norm)\n",
        "            # ----------------------------------\n",
        "            optimizer.step()\n",
        "\n",
        "\n",
        "        # LOG METRICS IF ENOUGH EPOCHS HAVE ELAPSED\n",
        "        if epoch % log_iterations == 0:\n",
        "            avg_reward = rewards_batch_tensor.mean().item()\n",
        "            print(f\"Epoch {epoch}: Loss = {loss.item()}, Avg Reward = {avg_reward:.4f}, Mean Advantage: {advantages_of_batch.mean().item()}\")\n",
        "            # Validation Step\n",
        "            print(\"Validating the Model:\")\n",
        "            with torch.no_grad():\n",
        "                for i in range(4):\n",
        "                    logits = Policy_New(env.data[i])\n",
        "                    pred = torch.round(torch.sigmoid(logits)).item()    # Use Greedy Policy\n",
        "                    print(f\"Input: {env.data[i].tolist()}, Logits: {logits}, Prediction: {pred}, Actual: {env.targets[i].item()}\")\n",
        "\n",
        "    print(\"Training completed.\\n\")\n",
        "    print(f\"Number of correct predictions: {overall_num_correct}/{epochs * batch_size}\")\n",
        "    print(f\"Accuracy: {overall_num_correct/(epochs * batch_size)}%\")\n",
        "\n",
        "    print(\"\\nTesting Trained Model:\")\n",
        "    for i in range(4):\n",
        "        logits = Policy_New(env.data[i])\n",
        "        pred = torch.round(torch.sigmoid(logits)).item()\n",
        "        print(f\"Input: {env.data[i].tolist()}, Prediction: {pred}, Actual: {env.targets[i].item()}\")\n"
      ]
    },
    {
      "cell_type": "code",
      "execution_count": null,
      "metadata": {
        "colab": {
          "base_uri": "https://localhost:8080/",
          "height": 508
        },
        "id": "OVsyQrc6N31_",
        "outputId": "7f992305-8ace-4a9e-f1fd-272462e5887c"
      },
      "outputs": [
        {
          "name": "stdout",
          "output_type": "stream",
          "text": [
            "Training AND gate with 100 epochs, 0.0001 learning rate, batch size 64, and KL beta 0.01.\n"
          ]
        },
        {
          "name": "stderr",
          "output_type": "stream",
          "text": [
            "Epoch 1/100 (Inner K-Epochs):   0%|          | 0/64 [00:00<?, ?it/s]"
          ]
        },
        {
          "name": "stderr",
          "output_type": "stream",
          "text": [
            "                                                                              \r"
          ]
        },
        {
          "name": "stdout",
          "output_type": "stream",
          "text": [
            "Epoch 0: Loss = -0.3479645848274231, Avg Reward = -5.7031, Mean Advantage: 1.862645149230957e-09\n",
            "Validating the Model:\n",
            "Input: [0.0, 0.0], Logits: tensor([0.0161]), Prediction: 1.0, Actual: 0.0\n",
            "Input: [0.0, 1.0], Logits: tensor([0.0522]), Prediction: 1.0, Actual: 0.0\n",
            "Input: [1.0, 0.0], Logits: tensor([0.0125]), Prediction: 1.0, Actual: 0.0\n",
            "Input: [1.0, 1.0], Logits: tensor([0.0496]), Prediction: 1.0, Actual: 1.0\n"
          ]
        },
        {
          "name": "stderr",
          "output_type": "stream",
          "text": [
            "                                                                     \r"
          ]
        },
        {
          "name": "stdout",
          "output_type": "stream",
          "text": [
            "Epoch 10: Loss = -0.34693479537963867, Avg Reward = -3.9844, Mean Advantage: -2.9802322387695312e-08\n",
            "Validating the Model:\n",
            "Input: [0.0, 0.0], Logits: tensor([0.0280]), Prediction: 1.0, Actual: 0.0\n",
            "Input: [0.0, 1.0], Logits: tensor([0.0830]), Prediction: 1.0, Actual: 0.0\n",
            "Input: [1.0, 0.0], Logits: tensor([0.0409]), Prediction: 1.0, Actual: 0.0\n",
            "Input: [1.0, 1.0], Logits: tensor([0.0977]), Prediction: 1.0, Actual: 1.0\n"
          ]
        },
        {
          "name": "stderr",
          "output_type": "stream",
          "text": [
            "                                                                     \r"
          ]
        },
        {
          "name": "stdout",
          "output_type": "stream",
          "text": [
            "Epoch 20: Loss = -0.3459464907646179, Avg Reward = -3.1250, Mean Advantage: -2.60770320892334e-08\n",
            "Validating the Model:\n",
            "Input: [0.0, 0.0], Logits: tensor([0.0448]), Prediction: 1.0, Actual: 0.0\n",
            "Input: [0.0, 1.0], Logits: tensor([0.1196]), Prediction: 1.0, Actual: 0.0\n",
            "Input: [1.0, 0.0], Logits: tensor([0.0740]), Prediction: 1.0, Actual: 0.0\n",
            "Input: [1.0, 1.0], Logits: tensor([0.1501]), Prediction: 1.0, Actual: 1.0\n"
          ]
        },
        {
          "name": "stderr",
          "output_type": "stream",
          "text": [
            "                                                                     \r"
          ]
        },
        {
          "name": "stdout",
          "output_type": "stream",
          "text": [
            "Epoch 30: Loss = -0.34645965695381165, Avg Reward = -4.5000, Mean Advantage: 0.0\n",
            "Validating the Model:\n",
            "Input: [0.0, 0.0], Logits: tensor([0.0463]), Prediction: 1.0, Actual: 0.0\n",
            "Input: [0.0, 1.0], Logits: tensor([0.1248]), Prediction: 1.0, Actual: 0.0\n",
            "Input: [1.0, 0.0], Logits: tensor([0.0819]), Prediction: 1.0, Actual: 0.0\n",
            "Input: [1.0, 1.0], Logits: tensor([0.1613]), Prediction: 1.0, Actual: 1.0\n"
          ]
        },
        {
          "name": "stderr",
          "output_type": "stream",
          "text": [
            "                                                                     \r"
          ]
        },
        {
          "name": "stdout",
          "output_type": "stream",
          "text": [
            "Epoch 40: Loss = -0.3440707325935364, Avg Reward = -4.5000, Mean Advantage: 0.0\n",
            "Validating the Model:\n",
            "Input: [0.0, 0.0], Logits: tensor([0.1169]), Prediction: 1.0, Actual: 0.0\n",
            "Input: [0.0, 1.0], Logits: tensor([0.2605]), Prediction: 1.0, Actual: 0.0\n",
            "Input: [1.0, 0.0], Logits: tensor([0.1945]), Prediction: 1.0, Actual: 0.0\n",
            "Input: [1.0, 1.0], Logits: tensor([0.3381]), Prediction: 1.0, Actual: 1.0\n"
          ]
        },
        {
          "name": "stderr",
          "output_type": "stream",
          "text": [
            "                                                                     \r"
          ]
        },
        {
          "name": "stdout",
          "output_type": "stream",
          "text": [
            "Epoch 50: Loss = -0.33778083324432373, Avg Reward = -3.2969, Mean Advantage: 0.0\n",
            "Validating the Model:\n",
            "Input: [0.0, 0.0], Logits: tensor([0.1926]), Prediction: 1.0, Actual: 0.0\n",
            "Input: [0.0, 1.0], Logits: tensor([0.3990]), Prediction: 1.0, Actual: 0.0\n",
            "Input: [1.0, 0.0], Logits: tensor([0.3243]), Prediction: 1.0, Actual: 0.0\n",
            "Input: [1.0, 1.0], Logits: tensor([0.5306]), Prediction: 1.0, Actual: 1.0\n"
          ]
        },
        {
          "name": "stderr",
          "output_type": "stream",
          "text": [
            "                                                                     \r"
          ]
        },
        {
          "name": "stdout",
          "output_type": "stream",
          "text": [
            "Epoch 60: Loss = -0.3283790051937103, Avg Reward = -3.6406, Mean Advantage: -1.1175870895385742e-08\n",
            "Validating the Model:\n",
            "Input: [0.0, 0.0], Logits: tensor([0.3112]), Prediction: 1.0, Actual: 0.0\n",
            "Input: [0.0, 1.0], Logits: tensor([0.6268]), Prediction: 1.0, Actual: 0.0\n",
            "Input: [1.0, 0.0], Logits: tensor([0.5116]), Prediction: 1.0, Actual: 0.0\n",
            "Input: [1.0, 1.0], Logits: tensor([0.8273]), Prediction: 1.0, Actual: 1.0\n"
          ]
        },
        {
          "name": "stderr",
          "output_type": "stream",
          "text": [
            "                                                                     \r"
          ]
        },
        {
          "name": "stdout",
          "output_type": "stream",
          "text": [
            "Epoch 70: Loss = -0.3183174729347229, Avg Reward = -5.1875, Mean Advantage: 0.0\n",
            "Validating the Model:\n",
            "Input: [0.0, 0.0], Logits: tensor([0.4593]), Prediction: 1.0, Actual: 0.0\n",
            "Input: [0.0, 1.0], Logits: tensor([0.8859]), Prediction: 1.0, Actual: 0.0\n",
            "Input: [1.0, 0.0], Logits: tensor([0.7442]), Prediction: 1.0, Actual: 0.0\n",
            "Input: [1.0, 1.0], Logits: tensor([1.1709]), Prediction: 1.0, Actual: 1.0\n"
          ]
        },
        {
          "name": "stderr",
          "output_type": "stream",
          "text": [
            "                                                                     \r"
          ]
        },
        {
          "name": "stdout",
          "output_type": "stream",
          "text": [
            "Epoch 80: Loss = -0.288735955953598, Avg Reward = -5.7031, Mean Advantage: 1.862645149230957e-08\n",
            "Validating the Model:\n",
            "Input: [0.0, 0.0], Logits: tensor([0.6380]), Prediction: 1.0, Actual: 0.0\n",
            "Input: [0.0, 1.0], Logits: tensor([1.2173]), Prediction: 1.0, Actual: 0.0\n",
            "Input: [1.0, 0.0], Logits: tensor([1.0299]), Prediction: 1.0, Actual: 0.0\n",
            "Input: [1.0, 1.0], Logits: tensor([1.6092]), Prediction: 1.0, Actual: 1.0\n"
          ]
        },
        {
          "name": "stderr",
          "output_type": "stream",
          "text": [
            "                                                                     \r"
          ]
        },
        {
          "name": "stdout",
          "output_type": "stream",
          "text": [
            "Epoch 90: Loss = -0.2419928014278412, Avg Reward = -6.5625, Mean Advantage: 0.0\n",
            "Validating the Model:\n",
            "Input: [0.0, 0.0], Logits: tensor([0.8836]), Prediction: 1.0, Actual: 0.0\n",
            "Input: [0.0, 1.0], Logits: tensor([1.6479]), Prediction: 1.0, Actual: 0.0\n",
            "Input: [1.0, 0.0], Logits: tensor([1.4245]), Prediction: 1.0, Actual: 0.0\n",
            "Input: [1.0, 1.0], Logits: tensor([2.1888]), Prediction: 1.0, Actual: 1.0\n"
          ]
        },
        {
          "name": "stderr",
          "output_type": "stream",
          "text": [
            "                                                                      "
          ]
        },
        {
          "name": "stdout",
          "output_type": "stream",
          "text": [
            "Training completed.\n",
            "\n",
            "Number of correct predictions: 2952.0/6400\n",
            "Accuracy: 0.46125%\n",
            "\n",
            "Testing Trained Model:\n",
            "Input: [0.0, 0.0], Prediction: 1.0, Actual: 0.0\n",
            "Input: [0.0, 1.0], Prediction: 1.0, Actual: 0.0\n",
            "Input: [1.0, 0.0], Prediction: 1.0, Actual: 0.0\n",
            "Input: [1.0, 1.0], Prediction: 1.0, Actual: 1.0\n"
          ]
        },
        {
          "name": "stderr",
          "output_type": "stream",
          "text": [
            "\r"
          ]
        }
      ],
      "source": [
        "# Run training\n",
        "train_logic_gate(gate=\"AND\", epochs=100, learning_rate=0.0001, batch_size=64, k_epochs=64, epsilon=0.2, beta_kl=0.01, max_grad_norm=0.5, entropy_coeff=0.5, log_iterations=10)"
      ]
    },
    {
      "cell_type": "code",
      "execution_count": 13,
      "metadata": {
        "id": "odp6rhSrlymy"
      },
      "outputs": [
        {
          "name": "stdout",
          "output_type": "stream",
          "text": [
            "Training AND gate with 1000 epochs, 0.0001 learning rate, batch size 64, and KL beta 0.01.\n"
          ]
        },
        {
          "name": "stderr",
          "output_type": "stream",
          "text": [
            "                                                                                \r"
          ]
        },
        {
          "name": "stdout",
          "output_type": "stream",
          "text": [
            "Epoch 0: Loss = -0.3463467061519623, Avg Reward = -4.1562, Mean Advantage: -2.9802322387695312e-08\n",
            "Validating the Model:\n",
            "Input: [0.0, 0.0], Logits: tensor([-0.1245]), Prediction: 0.0, Actual: 0.0\n",
            "Input: [0.0, 1.0], Logits: tensor([-0.0740]), Prediction: 0.0, Actual: 0.0\n",
            "Input: [1.0, 0.0], Logits: tensor([-0.1057]), Prediction: 0.0, Actual: 0.0\n",
            "Input: [1.0, 1.0], Logits: tensor([-0.0129]), Prediction: 0.0, Actual: 1.0\n"
          ]
        },
        {
          "name": "stderr",
          "output_type": "stream",
          "text": [
            "                                                                                  \r"
          ]
        },
        {
          "name": "stdout",
          "output_type": "stream",
          "text": [
            "Epoch 100: Loss = -0.25097307562828064, Avg Reward = -3.4688, Mean Advantage: 2.2351741790771484e-08\n",
            "Validating the Model:\n",
            "Input: [0.0, 0.0], Logits: tensor([-1.3223]), Prediction: 0.0, Actual: 0.0\n",
            "Input: [0.0, 1.0], Logits: tensor([-1.5917]), Prediction: 0.0, Actual: 0.0\n",
            "Input: [1.0, 0.0], Logits: tensor([-1.6389]), Prediction: 0.0, Actual: 0.0\n",
            "Input: [1.0, 1.0], Logits: tensor([-1.9857]), Prediction: 0.0, Actual: 1.0\n"
          ]
        },
        {
          "name": "stderr",
          "output_type": "stream",
          "text": [
            "                                                                                    \r"
          ]
        },
        {
          "name": "stdout",
          "output_type": "stream",
          "text": [
            "Epoch 200: Loss = -0.06561212241649628, Avg Reward = -1.2344, Mean Advantage: 0.0\n",
            "Validating the Model:\n",
            "Input: [0.0, 0.0], Logits: tensor([-6.9779]), Prediction: 0.0, Actual: 0.0\n",
            "Input: [0.0, 1.0], Logits: tensor([-10.6638]), Prediction: 0.0, Actual: 0.0\n",
            "Input: [1.0, 0.0], Logits: tensor([-11.3443]), Prediction: 0.0, Actual: 0.0\n",
            "Input: [1.0, 1.0], Logits: tensor([-15.5988]), Prediction: 0.0, Actual: 1.0\n"
          ]
        },
        {
          "name": "stderr",
          "output_type": "stream",
          "text": [
            "                                                                                    \r"
          ]
        },
        {
          "name": "stdout",
          "output_type": "stream",
          "text": [
            "Epoch 300: Loss = -0.09521104395389557, Avg Reward = -2.9531, Mean Advantage: 1.1175870895385742e-08\n",
            "Validating the Model:\n",
            "Input: [0.0, 0.0], Logits: tensor([-15.5039]), Prediction: 0.0, Actual: 0.0\n",
            "Input: [0.0, 1.0], Logits: tensor([-25.8845]), Prediction: 0.0, Actual: 0.0\n",
            "Input: [1.0, 0.0], Logits: tensor([-26.7027]), Prediction: 0.0, Actual: 0.0\n",
            "Input: [1.0, 1.0], Logits: tensor([-37.7966]), Prediction: 0.0, Actual: 1.0\n"
          ]
        },
        {
          "name": "stderr",
          "output_type": "stream",
          "text": [
            "                                                                                   \r"
          ]
        },
        {
          "name": "stdout",
          "output_type": "stream",
          "text": [
            "Epoch 400: Loss = -0.08405701816082001, Avg Reward = -1.5781, Mean Advantage: -7.450580596923828e-09\n",
            "Validating the Model:\n",
            "Input: [0.0, 0.0], Logits: tensor([-24.7942]), Prediction: 0.0, Actual: 0.0\n",
            "Input: [0.0, 1.0], Logits: tensor([-43.0157]), Prediction: 0.0, Actual: 0.0\n",
            "Input: [1.0, 0.0], Logits: tensor([-43.7906]), Prediction: 0.0, Actual: 0.0\n",
            "Input: [1.0, 1.0], Logits: tensor([-62.7431]), Prediction: 0.0, Actual: 1.0\n"
          ]
        },
        {
          "name": "stderr",
          "output_type": "stream",
          "text": [
            "                                                                                    \r"
          ]
        },
        {
          "name": "stdout",
          "output_type": "stream",
          "text": [
            "Epoch 500: Loss = -0.08921653777360916, Avg Reward = -2.0938, Mean Advantage: -3.725290298461914e-09\n",
            "Validating the Model:\n",
            "Input: [0.0, 0.0], Logits: tensor([-34.3475]), Prediction: 0.0, Actual: 0.0\n",
            "Input: [0.0, 1.0], Logits: tensor([-60.8914]), Prediction: 0.0, Actual: 0.0\n",
            "Input: [1.0, 0.0], Logits: tensor([-61.6070]), Prediction: 0.0, Actual: 0.0\n",
            "Input: [1.0, 1.0], Logits: tensor([-88.8819]), Prediction: 0.0, Actual: 1.0\n"
          ]
        },
        {
          "name": "stderr",
          "output_type": "stream",
          "text": [
            "                                                                                  \r"
          ]
        },
        {
          "name": "stdout",
          "output_type": "stream",
          "text": [
            "Epoch 600: Loss = -0.08764027059078217, Avg Reward = -1.9219, Mean Advantage: 0.0\n",
            "Validating the Model:\n",
            "Input: [0.0, 0.0], Logits: tensor([-44.1812]), Prediction: 0.0, Actual: 0.0\n",
            "Input: [0.0, 1.0], Logits: tensor([-79.4544]), Prediction: 0.0, Actual: 0.0\n",
            "Input: [1.0, 0.0], Logits: tensor([-80.1168]), Prediction: 0.0, Actual: 0.0\n",
            "Input: [1.0, 1.0], Logits: tensor([-116.1210]), Prediction: 0.0, Actual: 1.0\n"
          ]
        },
        {
          "name": "stderr",
          "output_type": "stream",
          "text": [
            "                                                                                  \r"
          ]
        },
        {
          "name": "stdout",
          "output_type": "stream",
          "text": [
            "Epoch 700: Loss = -0.0774502158164978, Avg Reward = -1.0625, Mean Advantage: 0.0\n",
            "Validating the Model:\n",
            "Input: [0.0, 0.0], Logits: tensor([-54.3207]), Prediction: 0.0, Actual: 0.0\n",
            "Input: [0.0, 1.0], Logits: tensor([-98.7136]), Prediction: 0.0, Actual: 0.0\n",
            "Input: [1.0, 0.0], Logits: tensor([-99.3270]), Prediction: 0.0, Actual: 0.0\n",
            "Input: [1.0, 1.0], Logits: tensor([-144.4509]), Prediction: 0.0, Actual: 1.0\n"
          ]
        },
        {
          "name": "stderr",
          "output_type": "stream",
          "text": [
            "                                                                                   \r"
          ]
        },
        {
          "name": "stdout",
          "output_type": "stream",
          "text": [
            "Epoch 800: Loss = -0.08764027059078217, Avg Reward = -1.9219, Mean Advantage: 0.0\n",
            "Validating the Model:\n",
            "Input: [0.0, 0.0], Logits: tensor([-64.7697]), Prediction: 0.0, Actual: 0.0\n",
            "Input: [0.0, 1.0], Logits: tensor([-118.6539]), Prediction: 0.0, Actual: 0.0\n",
            "Input: [1.0, 0.0], Logits: tensor([-119.2212]), Prediction: 0.0, Actual: 0.0\n",
            "Input: [1.0, 1.0], Logits: tensor([-173.8364]), Prediction: 0.0, Actual: 1.0\n"
          ]
        },
        {
          "name": "stderr",
          "output_type": "stream",
          "text": [
            "                                                                                   \r"
          ]
        },
        {
          "name": "stdout",
          "output_type": "stream",
          "text": [
            "Epoch 900: Loss = -0.09197536110877991, Avg Reward = -2.4375, Mean Advantage: 0.0\n",
            "Validating the Model:\n",
            "Input: [0.0, 0.0], Logits: tensor([-75.5170]), Prediction: 0.0, Actual: 0.0\n",
            "Input: [0.0, 1.0], Logits: tensor([-139.2401]), Prediction: 0.0, Actual: 0.0\n",
            "Input: [1.0, 0.0], Logits: tensor([-139.7638]), Prediction: 0.0, Actual: 0.0\n",
            "Input: [1.0, 1.0], Logits: tensor([-204.2180]), Prediction: 0.0, Actual: 1.0\n"
          ]
        },
        {
          "name": "stderr",
          "output_type": "stream",
          "text": [
            "                                                                                    "
          ]
        },
        {
          "name": "stdout",
          "output_type": "stream",
          "text": [
            "Training completed.\n",
            "\n",
            "Number of correct predictions: 46392.0/64000\n",
            "Accuracy: 0.724875%\n",
            "\n",
            "Testing Trained Model:\n",
            "Input: [0.0, 0.0], Prediction: 0.0, Actual: 0.0\n",
            "Input: [0.0, 1.0], Prediction: 0.0, Actual: 0.0\n",
            "Input: [1.0, 0.0], Prediction: 0.0, Actual: 0.0\n",
            "Input: [1.0, 1.0], Prediction: 0.0, Actual: 1.0\n"
          ]
        },
        {
          "name": "stderr",
          "output_type": "stream",
          "text": [
            "\r"
          ]
        }
      ],
      "source": [
        "train_logic_gate(gate=\"AND\", epochs=1000, learning_rate=0.0001, batch_size=64, k_epochs=128, epsilon=0.2, beta_kl=0.01, max_grad_norm=0.5, entropy_coeff=0.5, log_iterations=100)"
      ]
    },
    {
      "cell_type": "code",
      "execution_count": null,
      "metadata": {},
      "outputs": [],
      "source": []
    }
  ],
  "metadata": {
    "colab": {
      "provenance": []
    },
    "kernelspec": {
      "display_name": "GRPO_env",
      "language": "python",
      "name": "python3"
    },
    "language_info": {
      "codemirror_mode": {
        "name": "ipython",
        "version": 3
      },
      "file_extension": ".py",
      "mimetype": "text/x-python",
      "name": "python",
      "nbconvert_exporter": "python",
      "pygments_lexer": "ipython3",
      "version": "3.10.18"
    }
  },
  "nbformat": 4,
  "nbformat_minor": 0
}
