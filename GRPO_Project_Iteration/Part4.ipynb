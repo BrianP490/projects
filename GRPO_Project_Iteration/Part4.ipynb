{
  "cells": [
    {
      "cell_type": "markdown",
      "metadata": {
        "id": "eg4EjgNMYmSn"
      },
      "source": [
        "**Part 4**\n",
        "\n",
        "GRPO Loss\n",
        "\n",
        "* Terrible Loss\n",
        "* Gives One Sided Predictions"
      ]
    },
    {
      "cell_type": "code",
      "execution_count": null,
      "metadata": {
        "id": "K8F-BVwxNvrC"
      },
      "outputs": [],
      "source": [
        "import torch\n",
        "import torch.nn as nn\n",
        "import torch.optim as optim\n",
        "import random\n",
        "from tqdm import tqdm"
      ]
    },
    {
      "cell_type": "code",
      "execution_count": null,
      "metadata": {
        "id": "4D4bl4-xNwvl"
      },
      "outputs": [],
      "source": [
        "# Define the neural network\n",
        "class LogicNet(nn.Module):\n",
        "    def __init__(self):\n",
        "        super(LogicNet, self).__init__()\n",
        "        self.fc1 = nn.Linear(2, 4)  # Input layer -> Hidden Layer\n",
        "        self.fc2 = nn.Linear(4, 1)  # Hidden Layer -> Output Layer\n",
        "\n",
        "    def forward(self, x):\n",
        "        x = torch.relu(self.fc1(x))\n",
        "        logits = self.fc2(x)\n",
        "        return logits\n",
        "\n",
        "    def get_action_and_or_log_prob(self, state, action=None):\n",
        "        \"\"\"Helper method to get action and its log_prob from logits\"\"\"\n",
        "        logits = self.forward(state)    # Get the logits from a forward pass of the Policy Network\n",
        "        # For a binary output (0 or 1), Bernoulli distribution is appropriate\n",
        "        probs = torch.distributions.Bernoulli(logits=logits)\n",
        "\n",
        "        if action is None:\n",
        "            sampled_action = probs.sample() # Sample action based on current probabilities (returns 0 or 1)\n",
        "            log_prob = probs.log_prob(sampled_action)   # Calculate the log of the probability the sampled action is chosen\n",
        "            return sampled_action, log_prob\n",
        "        else:\n",
        "            log_prob = probs.log_prob(action)       # Returns the log of the probability the action is chosen\n",
        "            return log_prob\n"
      ]
    },
    {
      "cell_type": "code",
      "execution_count": 25,
      "metadata": {
        "id": "50L6eW4tNxrC"
      },
      "outputs": [],
      "source": [
        "# Define the environment\n",
        "class LogicGateEnv:\n",
        "    def __init__(self, gate=\"AND\"):\n",
        "        self.gate = gate\n",
        "        self.data = torch.tensor([[0, 0], [0, 1], [1, 0], [1, 1]], dtype=torch.float32)\n",
        "        self.targets = self.get_targets(gate)\n",
        "\n",
        "    def get_targets(self, gate:str):\n",
        "        if gate == \"AND\":\n",
        "            return torch.tensor([[0], [0], [0], [1]], dtype=torch.float32)\n",
        "        elif gate == \"OR\":\n",
        "            return torch.tensor([[0], [1], [1], [1]], dtype=torch.float32)\n",
        "        elif gate == \"XOR\":\n",
        "            return torch.tensor([[0], [1], [1], [0]], dtype=torch.float32)\n",
        "        elif gate == \"XNOR\":\n",
        "            return torch.tensor([[1], [0], [0], [1]], dtype=torch.float32)\n",
        "\n",
        "    def step(self, input_idx: int, prediction):\n",
        "        target = self.targets[input_idx]\n",
        "        # Take the mean squared error\n",
        "        # print(f\"prediction: {prediction} || target: {target}\")\n",
        "        error = (prediction - target).pow(2).mean().item()\n",
        "        reward = 1.0 - error\n",
        "        return reward"
      ]
    },
    {
      "cell_type": "code",
      "execution_count": null,
      "metadata": {
        "id": "vRGKeCcJUWLU"
      },
      "outputs": [],
      "source": [
        "# Training loop\n",
        "def train_logic_gate(gate=\"XOR\", epochs=1000, learning_rate=0.0001, batch_size=64, k_epochs=64, epsilon=0.2, beta_kl=0.01, max_grad_norm=0.5):\n",
        "    print(f\"Training {gate} gate with {epochs} epochs, {learning_rate} learning rate, batch size {batch_size}, and KL beta {beta_kl}.\")\n",
        "    #Initialize Agent's Policy, Environment, parameter optimizer, and Total Correct Counter\n",
        "    env = LogicGateEnv(gate)\n",
        "    Policy_New = LogicNet()\n",
        "    optimizer = optim.Adam(Policy_New.parameters(), lr=learning_rate)\n",
        "    num_correct = 0.0\n",
        "\n",
        "    for epoch in range(epochs):\n",
        "        rewards_batch = []\n",
        "        inputs_batch = []\n",
        "        targets_batch = []\n",
        "\n",
        "        # --- 1. Collect a Batch of Experiences ---\n",
        "        # Loop agent prediction, recording important values to lists:\n",
        "        for i in range(batch_size):\n",
        "            # Get model inputs and target\n",
        "            idx = random.randint(0, 3)\n",
        "            inputs = env.data[idx]\n",
        "            target = env.targets[idx]\n",
        "\n",
        "            # Get model prediction\n",
        "            # Get logits from current policy and formulate the model's prediction for reward calculation\n",
        "            with torch.no_grad(): # No need to track gradients during data collection\n",
        "                prediction_logits = Policy_New(inputs)\n",
        "                # print(f\"prediction logits: {prediction_logits}\")\n",
        "                pred = torch.round(torch.sigmoid(prediction_logits)).float()\n",
        "\n",
        "            # Calculate reward\n",
        "            reward = env.step(idx, pred)\n",
        "\n",
        "            # Append to lists\n",
        "            inputs_batch.append(inputs)\n",
        "            rewards_batch.append(reward)\n",
        "            targets_batch.append(target)\n",
        "\n",
        "        # Convert collected batch lists into PyTorch tensors\n",
        "        inputs_batch_tensor = torch.stack(inputs_batch)\n",
        "        targets_batch_tensor = torch.stack(targets_batch)\n",
        "        rewards_batch_tensor = torch.tensor(rewards_batch, dtype=torch.float32)\n",
        "\n",
        "        num_correct += (rewards_batch_tensor).sum().item()  ### need to change\n",
        "        # print(f\"Number correct, this iteration: {(rewards_batch_tensor).sum().item()}\")\n",
        "\n",
        "        # Unsqueeze to ensure rewards_batch_t has the same shape as targets_batch_t for element-wise ops SHAPE:(1, batch_size)\n",
        "        rewards_batch_t = rewards_batch_tensor.unsqueeze(1)\n",
        "\n",
        "        # --- START OF ADVANTAGE CALCULATION ---\n",
        "        # Calculate the mean of the rewards in the current batch\n",
        "        mean_reward = rewards_batch_tensor.mean()\n",
        "\n",
        "        # Calculate the standard deviation of the rewards in the current batch\n",
        "        # Add a small epsilon (1e-8) to prevent division by zero in case all rewards are identical\n",
        "        std_reward = rewards_batch_tensor.std() + 1e-8\n",
        "        # print(f\"rewards_batch_t shape: {rewards_batch_t.shape} || mean_reward: {mean_reward}\")\n",
        "        # Calculate the advantage for each time step in the batch using your specified formula\n",
        "        advantages_of_batch = (rewards_batch_t - mean_reward) / (std_reward)\n",
        "        # --- END OF ADVANTAGE CALCULATION ---\n",
        "\n",
        "        # --- 2. Store \"Old Policy\" Parameters ---\n",
        "        # Transfer the weights to the Old Policy Model\n",
        "        Policy_Old = LogicNet()\n",
        "        Policy_Old.load_state_dict(Policy_New.state_dict())\n",
        "        Policy_Old.eval()       # Tells Pytorch not to calculate gradients for this network\n",
        "\n",
        "        # Get log_probabilities for the collected 'targets' from the OLD policy\n",
        "        # Detach these to prevent gradients from flowing back into old_net\n",
        "        with torch.no_grad():\n",
        "            old_logits = Policy_Old(inputs_batch_tensor)\n",
        "            # Use the get_action_and_or_log_prob helper\n",
        "            log_prob_old = Policy_Old.get_action_and_or_log_prob(inputs_batch_tensor, targets_batch_tensor).detach()\n",
        "            # The .detach() is critical here to ensure old_net remains fixed.\n",
        "\n",
        "        # --- 3. Inner Loop (K_epochs) --- GRPO Optimization iteration\n",
        "        for _ in tqdm(range(k_epochs), desc=f\"Epoch {epoch+1}/{epochs} (Inner K-Epochs)\", leave=False):\n",
        "            new_policy_logits = Policy_New(inputs_batch_tensor)\n",
        "            log_prob_new = Policy_New.get_action_and_or_log_prob(inputs_batch_tensor, targets_batch_tensor)\n",
        "\n",
        "\n",
        "            # --- KL Divergence Calculation ---\n",
        "            # Create Bernoulli distributions for new and old policies using their logits\n",
        "            p_dist = torch.distributions.Bernoulli(logits=new_policy_logits)\n",
        "            q_dist = torch.distributions.Bernoulli(logits=old_logits) # Use the detached old_logits\n",
        "\n",
        "            # Calculate KL divergence per sample, then take the mean over the batch\n",
        "            kl_div_per_sample = torch.distributions.kl.kl_divergence(p_dist, q_dist)\n",
        "            kl_loss = kl_div_per_sample.mean() # Mean over the batch\n",
        "\n",
        "\n",
        "            # print(f\"log_prob_new: {log_prob_new}\")\n",
        "            # print(f\"log_prob_old: {log_prob_old}\")\n",
        "\n",
        "            # Calculate the ratio of each Trajectory in the Group\n",
        "            # r_t(0) = π_0(a_t|s_t) / π_0_old(a_t|s_t) = exp(log(π_0(a_t|s_t) - log(π_0_old(a_t|s_t)))\n",
        "            ratio = torch.exp(log_prob_new - log_prob_old)\n",
        "\n",
        "            # print(f\"Ratio: {ratio}\")\n",
        "\n",
        "            surrogate_1 = ratio * advantages_of_batch\n",
        "            surrogate_2 = torch.clamp(input=ratio, min= 1.0 - epsilon, max= 1.0 + epsilon) * advantages_of_batch\n",
        "\n",
        "            # Combine clipped loss with KL penalty\n",
        "            # Remember: we minimize the negative of the main objective, and add the KL term\n",
        "            # Maximize: min(...) - beta * D_KL(...) => Minimize: -min(...) + beta * D_KL(...)\n",
        "            policy_objective_term = -torch.min(surrogate_1, surrogate_2).mean()\n",
        "\n",
        "            # print(f\"policy_objective_term: {policy_objective_term}\")\n",
        "            \n",
        "            loss = policy_objective_term + beta_kl * kl_loss # Add KL term with beta_kl weight\n",
        "\n",
        "            # In GRPO, the objective function is typically designed to be maximized (e.g., maximizing the expected return). Since PyTorch optimizers are designed for minimization, the common practice is to minimize the negative of the objective function.\n",
        "\n",
        "            # Update the New Policy Model\n",
        "            optimizer.zero_grad()\n",
        "            loss.backward()\n",
        "            # --- ADDING GRADIENT CLIPPING HERE TO LIMIT PARAMETER UPDATES---\n",
        "            # torch.nn.utils.clip_grad_norm_(Policy_New.parameters(), max_norm=max_grad_norm)\n",
        "            # ----------------------------------\n",
        "            optimizer.step()\n",
        "\n",
        "\n",
        "\n",
        "        # LOG IF ENOUGH EPOCHS HAVE ELAPSED\n",
        "        if epoch % 100 == 0:\n",
        "            avg_reward = rewards_batch_tensor.mean().item()\n",
        "            print(f\"Epoch {epoch}: Loss = {loss.item()}, Avg Reward = {avg_reward:.4f}, Mean Advantage: {advantages_of_batch.mean().item()}\")\n",
        "            # Validation Step\n",
        "            print(\"Validating the Model:\")\n",
        "            with torch.no_grad():\n",
        "                for i in range(4):\n",
        "                    logits = Policy_New(env.data[i])\n",
        "                    pred = torch.round(torch.sigmoid(logits)).item()\n",
        "                    print(f\"Input: {env.data[i].tolist()}, Logits: {logits}, Prediction: {pred}, Actual: {env.targets[i].item()}\")\n",
        "\n",
        "    print(\"Training completed.\\n\")\n",
        "    print(f\"Number of correct predictions: {num_correct}/{epochs * batch_size}\")\n",
        "    print(f\"Accuracy: {num_correct/(epochs * batch_size)}%\")\n",
        "\n",
        "    print(\"\\nTesting Trained Model:\")\n",
        "    for i in range(4):\n",
        "        logits = Policy_New(env.data[i])\n",
        "        pred = torch.round(torch.sigmoid(logits)).item()\n",
        "        print(f\"Input: {env.data[i].tolist()}, Prediction: {pred}, Actual: {env.targets[i].item()}\")\n"
      ]
    },
    {
      "cell_type": "code",
      "execution_count": 33,
      "metadata": {
        "colab": {
          "base_uri": "https://localhost:8080/",
          "height": 508
        },
        "id": "OVsyQrc6N31_",
        "outputId": "7f992305-8ace-4a9e-f1fd-272462e5887c"
      },
      "outputs": [
        {
          "name": "stdout",
          "output_type": "stream",
          "text": [
            "Training AND gate with 1000 epochs, 0.0001 learning rate, batch size 64, and KL beta 0.01.\n"
          ]
        },
        {
          "name": "stderr",
          "output_type": "stream",
          "text": [
            "                                                                               \r"
          ]
        },
        {
          "name": "stdout",
          "output_type": "stream",
          "text": [
            "Epoch 0: Loss = -0.004044245462864637, Avg Reward = 0.7031, Mean Advantage: 1.4901161193847656e-08\n",
            "Input: [0.0, 0.0], Logits: tensor([-0.1039]), Prediction: 0.0, Actual: 0.0\n",
            "Input: [0.0, 1.0], Logits: tensor([-0.0842]), Prediction: 0.0, Actual: 0.0\n",
            "Input: [1.0, 0.0], Logits: tensor([0.0999]), Prediction: 1.0, Actual: 0.0\n",
            "Input: [1.0, 1.0], Logits: tensor([0.0773]), Prediction: 1.0, Actual: 1.0\n"
          ]
        },
        {
          "name": "stderr",
          "output_type": "stream",
          "text": [
            "                                                                                 \r"
          ]
        },
        {
          "name": "stdout",
          "output_type": "stream",
          "text": [
            "Epoch 100: Loss = -0.012214857153594494, Avg Reward = 0.2031, Mean Advantage: 7.450580596923828e-09\n",
            "Input: [0.0, 0.0], Logits: tensor([1.7961]), Prediction: 1.0, Actual: 0.0\n",
            "Input: [0.0, 1.0], Logits: tensor([2.1376]), Prediction: 1.0, Actual: 0.0\n",
            "Input: [1.0, 0.0], Logits: tensor([2.9123]), Prediction: 1.0, Actual: 0.0\n",
            "Input: [1.0, 1.0], Logits: tensor([3.2758]), Prediction: 1.0, Actual: 1.0\n"
          ]
        },
        {
          "name": "stderr",
          "output_type": "stream",
          "text": [
            "                                                                                 \r"
          ]
        },
        {
          "name": "stdout",
          "output_type": "stream",
          "text": [
            "Epoch 200: Loss = -0.023754172027111053, Avg Reward = 0.2031, Mean Advantage: 7.450580596923828e-09\n",
            "Input: [0.0, 0.0], Logits: tensor([5.5384]), Prediction: 1.0, Actual: 0.0\n",
            "Input: [0.0, 1.0], Logits: tensor([7.8225]), Prediction: 1.0, Actual: 0.0\n",
            "Input: [1.0, 0.0], Logits: tensor([8.8384]), Prediction: 1.0, Actual: 0.0\n",
            "Input: [1.0, 1.0], Logits: tensor([11.1225]), Prediction: 1.0, Actual: 1.0\n"
          ]
        },
        {
          "name": "stderr",
          "output_type": "stream",
          "text": [
            "                                                                                 \r"
          ]
        },
        {
          "name": "stdout",
          "output_type": "stream",
          "text": [
            "Epoch 300: Loss = -0.03921424597501755, Avg Reward = 0.2812, Mean Advantage: 7.450580596923828e-09\n",
            "Input: [0.0, 0.0], Logits: tensor([10.9531]), Prediction: 1.0, Actual: 0.0\n",
            "Input: [0.0, 1.0], Logits: tensor([16.9080]), Prediction: 1.0, Actual: 0.0\n",
            "Input: [1.0, 0.0], Logits: tensor([18.3358]), Prediction: 1.0, Actual: 0.0\n",
            "Input: [1.0, 1.0], Logits: tensor([24.2907]), Prediction: 1.0, Actual: 1.0\n"
          ]
        },
        {
          "name": "stderr",
          "output_type": "stream",
          "text": [
            "                                                                                 \r"
          ]
        },
        {
          "name": "stdout",
          "output_type": "stream",
          "text": [
            "Epoch 400: Loss = -0.044181372970342636, Avg Reward = 0.2188, Mean Advantage: -4.470348358154297e-08\n",
            "Input: [0.0, 0.0], Logits: tensor([18.1075]), Prediction: 1.0, Actual: 0.0\n",
            "Input: [0.0, 1.0], Logits: tensor([29.5040]), Prediction: 1.0, Actual: 0.0\n",
            "Input: [1.0, 0.0], Logits: tensor([31.3025]), Prediction: 1.0, Actual: 0.0\n",
            "Input: [1.0, 1.0], Logits: tensor([42.6989]), Prediction: 1.0, Actual: 1.0\n"
          ]
        },
        {
          "name": "stderr",
          "output_type": "stream",
          "text": [
            "                                                                                 \r"
          ]
        },
        {
          "name": "stdout",
          "output_type": "stream",
          "text": [
            "Epoch 500: Loss = -0.057066015899181366, Avg Reward = 0.2812, Mean Advantage: 1.862645149230957e-08\n",
            "Input: [0.0, 0.0], Logits: tensor([26.9205]), Prediction: 1.0, Actual: 0.0\n",
            "Input: [0.0, 1.0], Logits: tensor([45.4339]), Prediction: 1.0, Actual: 0.0\n",
            "Input: [1.0, 0.0], Logits: tensor([47.5573]), Prediction: 1.0, Actual: 0.0\n",
            "Input: [1.0, 1.0], Logits: tensor([66.0707]), Prediction: 1.0, Actual: 1.0\n"
          ]
        },
        {
          "name": "stderr",
          "output_type": "stream",
          "text": [
            "                                                                                 \r"
          ]
        },
        {
          "name": "stdout",
          "output_type": "stream",
          "text": [
            "Epoch 600: Loss = -0.074170783162117, Avg Reward = 0.3438, Mean Advantage: 5.587935447692871e-09\n",
            "Input: [0.0, 0.0], Logits: tensor([37.3896]), Prediction: 1.0, Actual: 0.0\n",
            "Input: [0.0, 1.0], Logits: tensor([64.5873]), Prediction: 1.0, Actual: 0.0\n",
            "Input: [1.0, 0.0], Logits: tensor([67.0637]), Prediction: 1.0, Actual: 0.0\n",
            "Input: [1.0, 1.0], Logits: tensor([94.2615]), Prediction: 1.0, Actual: 1.0\n"
          ]
        },
        {
          "name": "stderr",
          "output_type": "stream",
          "text": [
            "                                                                                 \r"
          ]
        },
        {
          "name": "stdout",
          "output_type": "stream",
          "text": [
            "Epoch 700: Loss = -0.0753750130534172, Avg Reward = 0.2969, Mean Advantage: -1.4901161193847656e-08\n",
            "Input: [0.0, 0.0], Logits: tensor([49.3583]), Prediction: 1.0, Actual: 0.0\n",
            "Input: [0.0, 1.0], Logits: tensor([86.7033]), Prediction: 1.0, Actual: 0.0\n",
            "Input: [1.0, 0.0], Logits: tensor([89.4987]), Prediction: 1.0, Actual: 0.0\n",
            "Input: [1.0, 1.0], Logits: tensor([126.8437]), Prediction: 1.0, Actual: 1.0\n"
          ]
        },
        {
          "name": "stderr",
          "output_type": "stream",
          "text": [
            "                                                                                 \r"
          ]
        },
        {
          "name": "stdout",
          "output_type": "stream",
          "text": [
            "Epoch 800: Loss = -0.0681488960981369, Avg Reward = 0.1875, Mean Advantage: -1.1175870895385742e-08\n",
            "Input: [0.0, 0.0], Logits: tensor([62.5212]), Prediction: 1.0, Actual: 0.0\n",
            "Input: [0.0, 1.0], Logits: tensor([111.0903]), Prediction: 1.0, Actual: 0.0\n",
            "Input: [1.0, 0.0], Logits: tensor([114.1397]), Prediction: 1.0, Actual: 0.0\n",
            "Input: [1.0, 1.0], Logits: tensor([162.7088]), Prediction: 1.0, Actual: 1.0\n"
          ]
        },
        {
          "name": "stderr",
          "output_type": "stream",
          "text": [
            "                                                                                 \r"
          ]
        },
        {
          "name": "stdout",
          "output_type": "stream",
          "text": [
            "Epoch 900: Loss = -0.07719399034976959, Avg Reward = 0.2500, Mean Advantage: -3.3527612686157227e-08\n",
            "Input: [0.0, 0.0], Logits: tensor([76.7607]), Prediction: 1.0, Actual: 0.0\n",
            "Input: [0.0, 1.0], Logits: tensor([137.3252]), Prediction: 1.0, Actual: 0.0\n",
            "Input: [1.0, 0.0], Logits: tensor([140.6774]), Prediction: 1.0, Actual: 0.0\n",
            "Input: [1.0, 1.0], Logits: tensor([201.2419]), Prediction: 1.0, Actual: 1.0\n"
          ]
        },
        {
          "name": "stderr",
          "output_type": "stream",
          "text": [
            "                                                                                 "
          ]
        },
        {
          "name": "stdout",
          "output_type": "stream",
          "text": [
            "Training completed.\n",
            "\n",
            "Number of correct predictions: 16368.0/64000\n",
            "Accuracy: 0.25575%\n",
            "\n",
            "Testing Trained Model:\n",
            "Input: [0.0, 0.0], Prediction: 1.0, Actual: 0.0\n",
            "Input: [0.0, 1.0], Prediction: 1.0, Actual: 0.0\n",
            "Input: [1.0, 0.0], Prediction: 1.0, Actual: 0.0\n",
            "Input: [1.0, 1.0], Prediction: 1.0, Actual: 1.0\n"
          ]
        },
        {
          "name": "stderr",
          "output_type": "stream",
          "text": [
            "\r"
          ]
        }
      ],
      "source": [
        "\n",
        "# Run training\n",
        "train_logic_gate(\"AND\")"
      ]
    }
  ],
  "metadata": {
    "colab": {
      "provenance": []
    },
    "kernelspec": {
      "display_name": "GRPO_env",
      "language": "python",
      "name": "python3"
    },
    "language_info": {
      "codemirror_mode": {
        "name": "ipython",
        "version": 3
      },
      "file_extension": ".py",
      "mimetype": "text/x-python",
      "name": "python",
      "nbconvert_exporter": "python",
      "pygments_lexer": "ipython3",
      "version": "3.10.17"
    }
  },
  "nbformat": 4,
  "nbformat_minor": 0
}
