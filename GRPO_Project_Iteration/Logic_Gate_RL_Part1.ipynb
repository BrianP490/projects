{
  "cells": [
    {
      "cell_type": "markdown",
      "metadata": {
        "id": "51wgHg1klETl"
      },
      "source": [
        "**Part 1**"
      ]
    },
    {
      "cell_type": "code",
      "execution_count": 1,
      "metadata": {
        "id": "YKpZhVWHj_G0"
      },
      "outputs": [],
      "source": [
        "import torch\n",
        "import torch.nn as nn\n",
        "import torch.optim as optim\n",
        "import random"
      ]
    },
    {
      "cell_type": "code",
      "execution_count": 2,
      "metadata": {
        "id": "9BORkY1mkA4Q"
      },
      "outputs": [],
      "source": [
        "# Define the neural network\n",
        "class LogicNet(nn.Module):\n",
        "    def __init__(self):\n",
        "        super(LogicNet, self).__init__()\n",
        "        self.fc1 = nn.Linear(2, 4)  # Input layer -> Hidden Layer\n",
        "        self.fc2 = nn.Linear(4, 1)  # Hidden Layer -> Output Layer\n",
        "\n",
        "    def forward(self, x):\n",
        "        x = torch.relu(self.fc1(x))\n",
        "        x = torch.sigmoid(self.fc2(x))\n",
        "        return x\n"
      ]
    },
    {
      "cell_type": "code",
      "execution_count": 3,
      "metadata": {
        "id": "_KcQSNCBkCK_"
      },
      "outputs": [],
      "source": [
        "# Define the environment\n",
        "class LogicGateEnv:\n",
        "    def __init__(self, gate=\"AND\"):\n",
        "        self.gate = gate\n",
        "        self.data = torch.tensor([[0, 0], [0, 1], [1, 0], [1, 1]], dtype=torch.float32)\n",
        "        self.targets = self.get_targets(gate)\n",
        "        self.num_correct = 0.0\n",
        "\n",
        "    def get_targets(self, gate):\n",
        "        if gate == \"AND\":\n",
        "            return torch.tensor([[0], [0], [0], [1]], dtype=torch.float32)\n",
        "        elif gate == \"OR\":\n",
        "            return torch.tensor([[0], [1], [1], [1]], dtype=torch.float32)\n",
        "        elif gate == \"XOR\":\n",
        "            return torch.tensor([[0], [1], [1], [0]], dtype=torch.float32)\n",
        "\n",
        "    def step(self, input_idx, prediction):\n",
        "        correct = self.targets[input_idx].item()\n",
        "        reward = 1.0 if round(prediction.item()) == correct else -1.0\n",
        "        self.num_correct += reward\n",
        "        return reward"
      ]
    },
    {
      "cell_type": "code",
      "execution_count": 6,
      "metadata": {
        "id": "ykKng4s_j91V"
      },
      "outputs": [],
      "source": [
        "# Training loop with reward-based backpropagation\n",
        "def train_logic_gate(gate=\"XOR\", epochs=1000, learning_rate=0.01):\n",
        "    print(f\"Training {gate} gate with {epochs} epochs, {learning_rate} learning rate\")\n",
        "    env = LogicGateEnv(gate)\n",
        "    net = LogicNet()\n",
        "    optimizer = optim.Adam(net.parameters(), lr=learning_rate)\n",
        "    loss_fn = nn.MSELoss()\n",
        "\n",
        "    for epoch in range(epochs):\n",
        "        idx = random.randint(0, 3)\n",
        "        inputs = env.data[idx]\n",
        "        target = env.targets[idx]\n",
        "\n",
        "        # Agent Action\n",
        "        prediction = net(inputs)\n",
        "\n",
        "        # Compute reward based on action in the environment\n",
        "        reward = env.step(idx, prediction)\n",
        "\n",
        "        # Modify loss using the reward\n",
        "        loss = loss_fn(prediction, target) * (1 - reward)  # Scaling by reward (negative to encourage better choices)\n",
        "\n",
        "        # Backpropagation with modified loss\n",
        "        optimizer.zero_grad()\n",
        "        loss.backward()\n",
        "        optimizer.step()\n",
        "\n",
        "        # Epoch count\n",
        "        if epoch % 1000 == 0:\n",
        "            print(f\"Epoch {epoch}: Loss = {loss.item()}, Reward = {reward}\")\n",
        "\n",
        "    print(\"Training completed. Testing model:\")\n",
        "    for i in range(4):\n",
        "        pred = net(env.data[i]).item()\n",
        "        print(f\"Input: {env.data[i].tolist()}, Prediction: {round(pred)}, Actual: {env.targets[i].item()}\")\n",
        "    print(\"accuracy :\", env.num_correct / epochs)\n"
      ]
    },
    {
      "cell_type": "code",
      "execution_count": 7,
      "metadata": {
        "colab": {
          "base_uri": "https://localhost:8080/"
        },
        "id": "TDSRxBYXkEUV",
        "outputId": "7d8a9c8f-c380-4fef-ba6c-15df92a397d1"
      },
      "outputs": [
        {
          "name": "stdout",
          "output_type": "stream",
          "text": [
            "Training XOR gate with 1000 epochs, 0.01 learning rate\n",
            "Epoch 0: Loss = 0.72088623046875, Reward = -1.0\n",
            "Training completed. Testing model:\n",
            "Input: [0.0, 0.0], Prediction: 0, Actual: 0.0\n",
            "Input: [0.0, 1.0], Prediction: 1, Actual: 1.0\n",
            "Input: [1.0, 0.0], Prediction: 1, Actual: 1.0\n",
            "Input: [1.0, 1.0], Prediction: 0, Actual: 0.0\n",
            "accuracy : 0.908\n"
          ]
        }
      ],
      "source": [
        "# Run training\n",
        "train_logic_gate(\"XOR\")"
      ]
    },
    {
      "cell_type": "code",
      "execution_count": null,
      "metadata": {},
      "outputs": [],
      "source": []
    }
  ],
  "metadata": {
    "colab": {
      "provenance": []
    },
    "kernelspec": {
      "display_name": "GRPO_env",
      "language": "python",
      "name": "python3"
    },
    "language_info": {
      "codemirror_mode": {
        "name": "ipython",
        "version": 3
      },
      "file_extension": ".py",
      "mimetype": "text/x-python",
      "name": "python",
      "nbconvert_exporter": "python",
      "pygments_lexer": "ipython3",
      "version": "3.10.17"
    }
  },
  "nbformat": 4,
  "nbformat_minor": 0
}
